{
 "cells": [
  {
   "cell_type": "code",
   "execution_count": 1,
   "metadata": {},
   "outputs": [],
   "source": [
    "import numpy\n",
    "from matplotlib import pyplot\n",
    "%matplotlib inline"
   ]
  },
  {
   "cell_type": "code",
   "execution_count": 2,
   "metadata": {},
   "outputs": [],
   "source": [
    "#Set the font family and size to use for Matplotlib figures\n",
    "pyplot.rcParams['font.family']='serif'\n",
    "pyplot.rcParams['font.size']=16"
   ]
  },
  {
   "cell_type": "code",
   "execution_count": 3,
   "metadata": {},
   "outputs": [],
   "source": [
    "def rho_red_light(x, rho_max):\n",
    "    rho=rho_max*numpy.ones_like(x)\n",
    "    mask = numpy.where(x<3.0)\n",
    "    rho[mask]=0.5*rho_max\n",
    "    return rho"
   ]
  },
  {
   "cell_type": "code",
   "execution_count": 4,
   "metadata": {},
   "outputs": [],
   "source": [
    "#Set parameters\n",
    "nx=81 #number of locations on the road\n",
    "L = 4.0 #length of the road\n",
    "dx = L/(nx-1) #distance between two consecutive locations\n",
    "nt = 40 #number of time steps to compute\n",
    "u_max = 1.0 #max speed allowed on the road\n",
    "rho_max = 10.0 #max car density allowed on the road\n",
    "\n",
    "#Discretize the road\n",
    "x=numpy.linspace(0.0,L, num=nx)\n",
    "\n",
    "#Compute the initial traffic density\n",
    "rho0 = rho_red_light(x, rho_max)"
   ]
  },
  {
   "cell_type": "code",
   "execution_count": 5,
   "metadata": {},
   "outputs": [
    {
     "data": {
      "image/png": "[encoded data removed]",
      "text/plain": [
       "<Figure size 432x288 with 1 Axes>"
      ]
     },
     "metadata": {},
     "output_type": "display_data"
    }
   ],
   "source": [
    "# Plot the initial traffic density.\n",
    "fig = pyplot.figure(figsize=(6.0, 4.0))\n",
    "pyplot.xlabel(r'$x$')\n",
    "pyplot.ylabel(r'$\\rho$')\n",
    "pyplot.grid()\n",
    "line = pyplot.plot(x, rho0,\n",
    "                   color='C0', linestyle='-', linewidth=2)[0]\n",
    "pyplot.xlim(0.0, L)\n",
    "pyplot.ylim(4.0, 11.0)\n",
    "pyplot.tight_layout()"
   ]
  },
  {
   "cell_type": "code",
   "execution_count": 6,
   "metadata": {},
   "outputs": [],
   "source": [
    "def flux(rho, u_max, rho_max):\n",
    "    F=rho*u_max*(1.0-rho/rho_max)\n",
    "    return F"
   ]
  },
  {
   "cell_type": "code",
   "execution_count": 7,
   "metadata": {},
   "outputs": [],
   "source": [
    "def update_plot(n, rho_hist):\n",
    "    pyplot.figure()\n",
    "    pyplot.xlabel('Distance [km]')\n",
    "    pyplot.ylabel('Density [cars/km]')\n",
    "    pyplot.grid()\n",
    "    pyplot.plot(x,rho_hist[0], label='Initial')\n",
    "    pyplot.plot(x,rho_hist[n], label='Time step{}'.format(n))\n",
    "    pyplot.ylim(rho_hist[0].min()-1.0, rho_hist[0].max()+1.0)\n",
    "    pyplot.legend()"
   ]
  },
  {
   "cell_type": "code",
   "execution_count": 8,
   "metadata": {},
   "outputs": [],
   "source": [
    "def lax_friedrichs(rho0, nt, dt, dx, bc_values, *args):\n",
    "    rho_hist=[rho0.copy()]\n",
    "    rho=rho0.copy()\n",
    "    for n in range (nt):\n",
    "        #Compute the flux\n",
    "        F=flux(rho,*args)\n",
    "        #Advance in time using Lax-Friedrichs scheme.\n",
    "        rho[1:-1]=(0.5*(rho[:-2]+rho[2:]-dt/(2.0*dx)*(F[2:]-F[:-2])))\n",
    "        #Set the value at the first location\n",
    "        rho[0]=bc_values[0]\n",
    "        #Set the value at the last location\n",
    "        rho[-1] = bc_values[1]\n",
    "        #Record the time-step solution\n",
    "        rho_hist.append(rho.copy())\n",
    "    return rho_hist"
   ]
  },
  {
   "cell_type": "code",
   "execution_count": 9,
   "metadata": {},
   "outputs": [],
   "source": [
    "#Set the time-step size based on CFL limit\n",
    "sigma = 1.0\n",
    "dt = sigma*dx/u_max #time-step size\n",
    "\n",
    "#compute the traffic density at all time steps\n",
    "rho_hist=lax_friedrichs(rho0, nt, dt, dx, (rho0[0], rho0[-1]), u_max, rho_max)"
   ]
  },
  {
   "cell_type": "code",
   "execution_count": 10,
   "metadata": {},
   "outputs": [
    {
     "data": {
      "application/vnd.jupyter.widget-view+json": {
       "model_id": "aab1768c3ce44af2961ea242ffb5a3cf",
       "version_major": 2,
       "version_minor": 0
      },
      "text/plain": [
       "interactive(children=(IntSlider(value=0, description='time step', max=40), Output()), _dom_classes=('widget-in…"
      ]
     },
     "metadata": {},
     "output_type": "display_data"
    }
   ],
   "source": [
    "import ipywidgets\n",
    "nt_slider=ipywidgets.IntSlider(value=0, min=0, max=nt, step=1, description='time step')\n",
    "display(ipywidgets.interactive(update_plot, n=nt_slider, rho_hist=ipywidgets.fixed(rho_hist)))"
   ]
  },
  {
   "cell_type": "code",
   "execution_count": 11,
   "metadata": {},
   "outputs": [],
   "source": [
    "#Set the time-step size based on CFL limit\n",
    "sigma = 0.5\n",
    "dt = sigma*dx/u_max #time-step size\n",
    "\n",
    "#compute the traffic density at all time steps\n",
    "rho_hist=lax_friedrichs(rho0, nt, dt, dx, (rho0[0], rho0[-1]), u_max, rho_max)"
   ]
  },
  {
   "cell_type": "code",
   "execution_count": 12,
   "metadata": {},
   "outputs": [
    {
     "data": {
      "application/vnd.jupyter.widget-view+json": {
       "model_id": "cd3de4fad93c4706855b87a8ec84f21b",
       "version_major": 2,
       "version_minor": 0
      },
      "text/plain": [
       "interactive(children=(IntSlider(value=0, description='time step', max=40), Output()), _dom_classes=('widget-in…"
      ]
     },
     "metadata": {},
     "output_type": "display_data"
    }
   ],
   "source": [
    "import ipywidgets\n",
    "nt_slider=ipywidgets.IntSlider(value=0, min=0, max=nt, step=1, description='time step')\n",
    "display(ipywidgets.interactive(update_plot, n=nt_slider, rho_hist=ipywidgets.fixed(rho_hist)))"
   ]
  },
  {
   "cell_type": "code",
   "execution_count": 13,
   "metadata": {},
   "outputs": [],
   "source": [
    "def jacobian(rho, u_max, rho_max):\n",
    "    J = u_max*(1.0-2.0*rho/rho_max)\n",
    "    return J"
   ]
  },
  {
   "cell_type": "code",
   "execution_count": 14,
   "metadata": {},
   "outputs": [],
   "source": [
    "def lax_wendroff(rho0, nt, dt, dx, bc_values, *args):\n",
    "    rho_hist = [rho0.copy()]\n",
    "    rho=rho0.copy()\n",
    "    for n in range(nt):\n",
    "        #Compute the flux\n",
    "        F=flux(rho, *args)\n",
    "        #Compute the Jacobian\n",
    "        J=jacobian(rho, *args)\n",
    "        #Advance in time using Lax-Wendroff scheme\n",
    "        rho[1:-1]=(rho[1:-1]-dt/(2.0*dx)*(F[2:]-F[:-2])+dt**2/(4.0*dx**2)*((J[1:-1]+J[2:])*(F[2:]-F[1:-1])-(J[:-2]+J[1:-1])*(F[1:-1]-F[:-2])))\n",
    "        #Set the value at the first location\n",
    "        rho[0]=bc_values[0]\n",
    "        #Set the value at the last location\n",
    "        rho[-1]=bc_values[1]\n",
    "        #Record the time-step solution\n",
    "        rho_hist.append(rho.copy())\n",
    "    return rho_hist"
   ]
  },
  {
   "cell_type": "code",
   "execution_count": 15,
   "metadata": {},
   "outputs": [],
   "source": [
    "#Set the time-step size based on CFL limit\n",
    "sigma = 1.0\n",
    "dt = sigma*dx/u_max #time-step size\n",
    "\n",
    "#compute the traffic density at all time steps\n",
    "rho_hist=lax_wendroff(rho0, nt, dt, dx, (rho0[0], rho0[-1]), u_max, rho_max)"
   ]
  },
  {
   "cell_type": "code",
   "execution_count": 16,
   "metadata": {},
   "outputs": [
    {
     "data": {
      "application/vnd.jupyter.widget-view+json": {
       "model_id": "7a43d51990614678bd01849d606d3455",
       "version_major": 2,
       "version_minor": 0
      },
      "text/plain": [
       "interactive(children=(IntSlider(value=0, description='time step', max=40), Output()), _dom_classes=('widget-in…"
      ]
     },
     "metadata": {},
     "output_type": "display_data"
    }
   ],
   "source": [
    "import ipywidgets\n",
    "nt_slider=ipywidgets.IntSlider(value=0, min=0, max=nt, step=1, description='time step')\n",
    "display(ipywidgets.interactive(update_plot, n=nt_slider, rho_hist=ipywidgets.fixed(rho_hist)))"
   ]
  },
  {
   "cell_type": "code",
   "execution_count": 17,
   "metadata": {},
   "outputs": [],
   "source": [
    "#Set the time-step size based on CFL limit\n",
    "sigma = 0.5\n",
    "dt = sigma*dx/u_max #time-step size\n",
    "\n",
    "#compute the traffic density at all time steps\n",
    "rho_hist=lax_wendroff(rho0, nt, dt, dx, (rho0[0], rho0[-1]), u_max, rho_max)"
   ]
  },
  {
   "cell_type": "code",
   "execution_count": 27,
   "metadata": {},
   "outputs": [
    {
     "data": {
      "application/vnd.jupyter.widget-view+json": {
       "model_id": "17e8275b8b00483ca09df2c6e050ceec",
       "version_major": 2,
       "version_minor": 0
      },
      "text/plain": [
       "interactive(children=(IntSlider(value=0, description='time step', max=40), Output()), _dom_classes=('widget-in…"
      ]
     },
     "metadata": {},
     "output_type": "display_data"
    }
   ],
   "source": [
    "import ipywidgets\n",
    "nt_slider=ipywidgets.IntSlider(value=0, min=0, max=nt, step=1, description='time step')\n",
    "display(ipywidgets.interactive(update_plot, n=nt_slider, rho_hist=ipywidgets.fixed(rho_hist)))"
   ]
  },
  {
   "cell_type": "code",
   "execution_count": 30,
   "metadata": {},
   "outputs": [],
   "source": [
    "def maccormack(rho0, nt, dt, dx, bc_values, *args):\n",
    "    rho_hist=[rho0.copy()]\n",
    "    rho=rho0.copy()\n",
    "    rho_star=rho.copy()\n",
    "    for n in range (nt):\n",
    "        #compute the flux\n",
    "        F=flux(rho, *args)\n",
    "        #Predictor step of the MacCormack scheme\n",
    "        rho_star[1:-1]=(rho[1:-1]-dt/dx*(F[2:]-F[1:-1]))\n",
    "        #Compute the flux\n",
    "        F = flux(rho_star, *args)\n",
    "        # Corrector step of the MacCormack scheme.\n",
    "        rho[1:-1] = 0.5 * (rho[1:-1] + rho_star[1:-1] - dt / dx * (F[1:-1] - F[:-2]))\n",
    "        # Set the value at the first location.\n",
    "        rho[0] = bc_values[0]\n",
    "        # Set the value at the last location.\n",
    "        rho[-1] = bc_values[1]\n",
    "        # Record the time-step solution.\n",
    "        rho_hist.append(rho.copy())\n",
    "    return rho_hist"
   ]
  },
  {
   "cell_type": "code",
   "execution_count": 31,
   "metadata": {},
   "outputs": [],
   "source": [
    "#Set the time-step size based on CFL limit\n",
    "sigma = 1.0\n",
    "dt = sigma*dx/u_max #time-step size\n",
    "\n",
    "#compute the traffic density at all time steps\n",
    "rho_hist = maccormack(rho0, nt, dt, dx, (rho0[0], rho0[-1]), u_max, rho_max)"
   ]
  },
  {
   "cell_type": "code",
   "execution_count": null,
   "metadata": {},
   "outputs": [],
   "source": [
    "import ipywidgets\n",
    "nt_slider=ipywidgets.IntSlider(value=0, min=0, max=nt, step=1, description='time step')\n",
    "display(ipywidgets.interactive(update_plot, n=nt_slider, rho_hist=ipywidgets.fixed(rho_hist)))"
   ]
  },
  {
   "cell_type": "code",
   "execution_count": null,
   "metadata": {},
   "outputs": [],
   "source": []
  },
  {
   "cell_type": "code",
   "execution_count": null,
   "metadata": {},
   "outputs": [],
   "source": []
  },
  {
   "cell_type": "code",
   "execution_count": null,
   "metadata": {},
   "outputs": [],
   "source": []
  },
  {
   "cell_type": "code",
   "execution_count": null,
   "metadata": {},
   "outputs": [],
   "source": []
  },
  {
   "cell_type": "code",
   "execution_count": null,
   "metadata": {},
   "outputs": [],
   "source": []
  },
  {
   "cell_type": "code",
   "execution_count": null,
   "metadata": {},
   "outputs": [],
   "source": []
  },
  {
   "cell_type": "code",
   "execution_count": null,
   "metadata": {},
   "outputs": [],
   "source": []
  },
  {
   "cell_type": "code",
   "execution_count": null,
   "metadata": {},
   "outputs": [],
   "source": []
  },
  {
   "cell_type": "code",
   "execution_count": null,
   "metadata": {},
   "outputs": [],
   "source": []
  }
 ],
 "metadata": {
  "kernelspec": {
   "display_name": "Python 3",
   "language": "python",
   "name": "python3"
  },
  "language_info": {
   "codemirror_mode": {
    "name": "ipython",
    "version": 3
   },
   "file_extension": ".py",
   "mimetype": "text/x-python",
   "name": "python",
   "nbconvert_exporter": "python",
   "pygments_lexer": "ipython3",
   "version": "3.6.2"
  }
 },
 "nbformat": 4,
 "nbformat_minor": 2
}
