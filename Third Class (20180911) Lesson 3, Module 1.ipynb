{
 "cells": [
  {
   "cell_type": "code",
   "execution_count": 1,
   "metadata": {},
   "outputs": [],
   "source": [
    "import math\n",
    "import numpy\n",
    "from matplotlib import pyplot\n",
    "%matplotlib inline"
   ]
  },
  {
   "cell_type": "code",
   "execution_count": 2,
   "metadata": {},
   "outputs": [],
   "source": [
    "# Set the font family and size to use for Matplotlib figures.\n",
    "pyplot.rcParams['font.family'] = 'serif'\n",
    "pyplot.rcParams['font.size'] = 16"
   ]
  },
  {
   "cell_type": "code",
   "execution_count": 3,
   "metadata": {},
   "outputs": [],
   "source": [
    "# Set parameters.\n",
    "g = 9.81 # gravitational acceleration (m.s^{-2})\n",
    "vt = 30.0 # trim velocity (m.s)\n",
    "CD = 1.0/40 # drag coefficient\n",
    "CL = 1.0 # lift coefficient\n",
    "\n",
    "# Set initial conditions.\n",
    "v0 = vt # start at the trim velocity\n",
    "theta0 = 0.0 # trajectory angle\n",
    "x0 = 0.0 # horizontal position\n",
    "y0 = 1000.0 # vertical position (altitude)"
   ]
  },
  {
   "cell_type": "code",
   "execution_count": 4,
   "metadata": {},
   "outputs": [],
   "source": [
    "def rhs_phugoid(u, CL, CD, g, vt):\n",
    "    \"\"\"\n",
    "    Returns the right-hand side of the phugoid system of equations.\n",
    "    \n",
    "    Parameters\n",
    "    -----------\n",
    "    u : list or numpy.ndarray\n",
    "        Solution at the previous time step \n",
    "        as a list or 1D array of four floats.\n",
    "    CL : float\n",
    "        Lift coefficient.\n",
    "    CD : float\n",
    "        Drag coefficient.\n",
    "    g : float\n",
    "        Gravitational acceleration.\n",
    "    vt : float\n",
    "        Trim velocity\n",
    "        \n",
    "    Returns\n",
    "    --------\n",
    "    rhs : numpy.ndarray\n",
    "        The right-hand side of the system\n",
    "        as a 1d array of four floats.\n",
    "    \"\"\"\n",
    "    v, theta, x, y = u\n",
    "    rhs = numpy.array([-g*math.sin(theta)-CD/CL * g/vt**2*v**2,\n",
    "                      -g*math.cos(theta)/v + g/vt**2*v,\n",
    "                       v*math.cos(theta), \n",
    "                       v*math.sin(theta)])\n",
    "    return rhs"
   ]
  },
  {
   "cell_type": "code",
   "execution_count": 5,
   "metadata": {},
   "outputs": [],
   "source": [
    "def euler_step(u,f,dt, *args):\n",
    "    \"\"\"\n",
    "    Returns the solution at the next time using Euler's method.\n",
    "    \n",
    "    Parameters\n",
    "    ----------\n",
    "    u : numpy.ndarray\n",
    "        Solution at the previous time step\n",
    "        as a 1D array of floats.\n",
    "    f : function\n",
    "        Function to compute the right-hand side of the system.\n",
    "    dt : float\n",
    "        Time-step size.\n",
    "    args : tuple, optional\n",
    "        Positional arguments to pass to the function f.\n",
    "        \n",
    "    Returns\n",
    "    --------\n",
    "    u_new : numpy.ndarray\n",
    "        The solution at the next time step\n",
    "        as a 1D array of floats.\n",
    "    \"\"\"\n",
    "    u_new  = u + dt * f(u, *args)\n",
    "    return u_new"
   ]
  },
  {
   "cell_type": "code",
   "execution_count": 6,
   "metadata": {},
   "outputs": [],
   "source": [
    "T = 100.0 # length of the time interval\n",
    "dt = 0.1 # time-step size\n",
    "N = int(T/dt) + 1 # number of time steps\n",
    "\n",
    "# Create array to store the solution at each time step.\n",
    "u = numpy.empty((N,4))\n",
    "# Set the initial conditions.\n",
    "u[0]=numpy.array([v0, theta0, x0, y0])\n",
    "\n",
    "#Time integration with Euler's method.\n",
    "for n in range (N-1):\n",
    "    u[n+1]= euler_step(u[n], rhs_phugoid, dt, CL, CD, g, vt)"
   ]
  },
  {
   "cell_type": "code",
   "execution_count": 7,
   "metadata": {},
   "outputs": [],
   "source": [
    "# Get the glider's position over the time.\n",
    "x = u[:,2]\n",
    "y = u[:,3]"
   ]
  },
  {
   "cell_type": "code",
   "execution_count": 8,
   "metadata": {},
   "outputs": [
    {
     "data": {
      "image/png": "[encoded data removed]",
      "text/plain": [
       "<Figure size 648x288 with 1 Axes>"
      ]
     },
     "metadata": {},
     "output_type": "display_data"
    }
   ],
   "source": [
    "# Plot the path of the glider.\n",
    "pyplot.figure(figsize=(9.0, 4.0))\n",
    "pyplot.title('Path of the glider (flight time = {})'. format(T))\n",
    "pyplot.xlabel('x')\n",
    "pyplot.ylabel('y')\n",
    "pyplot.grid()\n",
    "pyplot.plot(x,y,linestyle = '-', linewidth=2);"
   ]
  },
  {
   "cell_type": "code",
   "execution_count": 9,
   "metadata": {},
   "outputs": [],
   "source": [
    "# Set the list of time-step sizes.\n",
    "dt_values = [0.1,0.05, 0.01, 0.005, 0.001]\n",
    "\n",
    "# Create an empty list that will contain the solution of each grid.\n",
    "u_values=[]\n",
    "\n",
    "for dt in dt_values:\n",
    "    N = int(T/dt)+1 # number of time-steps\n",
    "    # Create array to store the solution at each time step.\n",
    "    u = numpy.empty((N,4))\n",
    "    # Set the initial conditions.\n",
    "    u[0] = numpy.array([v0, theta0, x0, y0])\n",
    "    # Temporal integration using Euler's method.\n",
    "    for n in range(N-1):\n",
    "        u[n+1] = euler_step(u[n], rhs_phugoid, dt, CL, CD, g, vt)\n",
    "    # Store the solution for the present time-step size\n",
    "    u_values.append(u)"
   ]
  },
  {
   "cell_type": "code",
   "execution_count": 10,
   "metadata": {},
   "outputs": [],
   "source": [
    "def l1_diff(u_coarse, u_fine, dt):\n",
    "    \"\"\"\n",
    "    Returns the difference in the L1-norm between the solution on\n",
    "    a coarse grid and the solution on a fine grid.\n",
    "    \n",
    "    Parameters\n",
    "    ---------\n",
    "    u_coarse : numpy.ndarray\n",
    "        Solution on the coarse grid as an array of floats.\n",
    "    u_fine : numpy.ndarray\n",
    "        Solution on the fine grid as an array of floats.\n",
    "    dt : float\n",
    "        Time-step size.\n",
    "        \n",
    "    Returns\n",
    "    -------\n",
    "    diff : float\n",
    "        The difference between the two solutions in the L1-norm\n",
    "        scaled by the time-step size.\n",
    "    \"\"\"\n",
    "    N_coarse = len(u_coarse)\n",
    "    N_fine = len(u_fine)\n",
    "    ratio = math.ceil(N_fine/N_coarse)\n",
    "    diff = dt*numpy.sum(numpy.abs(u_coarse-u_fine[::ratio]))\n",
    "    return diff"
   ]
  },
  {
   "cell_type": "code",
   "execution_count": 11,
   "metadata": {},
   "outputs": [],
   "source": [
    "# Create an empty list to store the difference in the solution\n",
    "# between two consecutive grids.\n",
    "diff_values =[]\n",
    "\n",
    "for i, dt in enumerate(dt_values[:-1]):\n",
    "    diff = l1_diff(u_values[i][:,2], u_values[-1][:,2], dt)\n",
    "    diff_values.append(diff)"
   ]
  },
  {
   "cell_type": "code",
   "execution_count": 12,
   "metadata": {},
   "outputs": [
    {
     "data": {
      "image/png": "[encoded data removed]",
      "text/plain": [
       "<Figure size 432x432 with 1 Axes>"
      ]
     },
     "metadata": {},
     "output_type": "display_data"
    }
   ],
   "source": [
    "# Plot the difference versus the time-step size.\n",
    "pyplot.figure(figsize=(6.0, 6.0))\n",
    "pyplot.title('L1-norm difference vs. time-step size') # set the title\n",
    "pyplot.xlabel('$\\Delta t$') # set the x-axis label\n",
    "pyplot.ylabel('Difference') # set the y-axis label\n",
    "pyplot.grid()\n",
    "pyplot.loglog(dt_values[:-1], diff_values, color='C0', linestyle='--', marker ='o') # Log-log plot\n",
    "pyplot.axis('equal'); # make axes scale equally"
   ]
  },
  {
   "cell_type": "code",
   "execution_count": 13,
   "metadata": {},
   "outputs": [
    {
     "name": "stdout",
     "output_type": "stream",
     "text": [
      "Observed order of convergence: p = 1.014\n"
     ]
    }
   ],
   "source": [
    "r = 2 # refinement ratio for the time-step size\n",
    "h = 0.001 # base grid size\n",
    "\n",
    "dt_values2 = [h, r*h, r**2*h]\n",
    "u_values2 = []\n",
    "\n",
    "for dt in dt_values2:\n",
    "    N =int(T/dt)+1 # number of time steps\n",
    "    # Create array to store the solution at each time step.\n",
    "    u = numpy.empty((N,4))\n",
    "    # Set initial conditions.\n",
    "    u[0] = numpy.array([v0, theta0,x0, y0])\n",
    "    # Time integration using Euler's method.\n",
    "    for n in range (N-1):\n",
    "        u[n+1] = euler_step(u[n], rhs_phugoid, dt, CL, CD, g, vt)\n",
    "    #Store the solution.\n",
    "    u_values2.append(u)\n",
    "    \n",
    "#Calculate f2 - f1.\n",
    "f2_f1 = l1_diff(u_values2[1][:, 2], u_values2[0][:,2], dt_values2[1])\n",
    "#Calculate f3-f2.\n",
    "f3_f2 = l1_diff(u_values2[2][:,2], u_values2[1][:,2], dt_values2[2])\n",
    "#Calculate the observed order of convergence.\n",
    "p=math.log(f3_f2/f2_f1)/math.log(r)\n",
    "print('Observed order of convergence: p = {:.3f}'. format(p))"
   ]
  },
  {
   "cell_type": "code",
   "execution_count": null,
   "metadata": {},
   "outputs": [],
   "source": []
  }
 ],
 "metadata": {
  "anaconda-cloud": {},
  "kernelspec": {
   "display_name": "Python 3",
   "language": "python",
   "name": "python3"
  },
  "language_info": {
   "codemirror_mode": {
    "name": "ipython",
    "version": 3
   },
   "file_extension": ".py",
   "mimetype": "text/x-python",
   "name": "python",
   "nbconvert_exporter": "python",
   "pygments_lexer": "ipython3",
   "version": "3.6.2"
  }
 },
 "nbformat": 4,
 "nbformat_minor": 1
}
