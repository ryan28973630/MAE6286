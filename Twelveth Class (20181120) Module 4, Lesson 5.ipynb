{
 "cells": [
  {
   "cell_type": "code",
   "execution_count": 1,
   "metadata": {},
   "outputs": [],
   "source": [
    "import numpy\n",
    "from scipy import linalg\n",
    "from matplotlib import pyplot\n",
    "%matplotlib inline"
   ]
  },
  {
   "cell_type": "code",
   "execution_count": 2,
   "metadata": {},
   "outputs": [],
   "source": [
    "L = 1.0 #Length of the rod\n",
    "nx = 51 # Number of points on the rod\n",
    "dx = L/(nx-1) # grid spacing along the rod\n",
    "x = numpy.linspace(0.0, L, num = nx)\n",
    "\n",
    "alpha = 1.22e-3 # Thermal diffusivity\n",
    "\n",
    "T0 = numpy.zeros(nx) # Temp distribution along the rode of length L\n",
    "T0[0] = 100.0 #Temp [oC] at x = 0"
   ]
  },
  {
   "cell_type": "code",
   "execution_count": 3,
   "metadata": {},
   "outputs": [],
   "source": [
    "def solve_1d(T0, nt, dt, dx, alpha, cI, cE, bc):\n",
    "    T = T0.copy()\n",
    "    N = len(T0)-2\n",
    "    A, b_bc = lhs_operator(N, dt, dx, alpha, cI, bc)\n",
    "    for n in range (nt):\n",
    "        b = rhs_vector(T, dt, dx, alpha, cE)\n",
    "        T[1:-1] = linalg.solve(A, b-b_bc)\n",
    "        update_boundaries(T, dx, bc)\n",
    "    return T"
   ]
  },
  {
   "cell_type": "code",
   "execution_count": 4,
   "metadata": {},
   "outputs": [],
   "source": [
    "def lhs_operator (N, dt, dx, alpha, cI, bc):\n",
    "    I = numpy.identity(N)\n",
    "    L, b_bc = laplacian_1d(N, dx, bc)\n",
    "    A = I/dt - cI*alpha*L\n",
    "    return A, b_bc"
   ]
  },
  {
   "cell_type": "code",
   "execution_count": 5,
   "metadata": {},
   "outputs": [],
   "source": [
    "def laplacian_1d(N, dx, bc):\n",
    "    D = numpy.diag(-2.0/dx**2*numpy.ones(N))\n",
    "    L = numpy.diag(1.0/dx**2*numpy.ones(N-1), k=-1)\n",
    "    U = numpy.diag(1.0/dx**2*numpy.ones(N-1), k=+1)\n",
    "    A = D + U + L\n",
    "    \n",
    "    b_bc = numpy.zeros(N)\n",
    "    \n",
    "    #Lets discuss the left boundary (x=0)\n",
    "    if bc['left']['type']=='Dirichlet':\n",
    "        b_bc[0] = bc['left']['value']/dx**2\n",
    "    elif bc['left']['type']=='Neumann':\n",
    "        A[0,0] = -1.0/dx**2\n",
    "        b_bc[0] = bc['left']['value']/dx\n",
    "        \n",
    "    #Right Boundary\n",
    "    if bc['right']['type']=='Dirichlet':\n",
    "        b_bc[-1] = bc['right']['value']/dx**2\n",
    "    elif bc['right']['type']=='Neumann':\n",
    "        A[-1,-1] = -1.0/dx**2\n",
    "        b_bc[-1] = bc['right']['value']/dx\n",
    "        \n",
    "    return A, b_bc"
   ]
  },
  {
   "cell_type": "code",
   "execution_count": 6,
   "metadata": {},
   "outputs": [
    {
     "name": "stdout",
     "output_type": "stream",
     "text": [
      "Dirichlet\n",
      "0.0\n",
      "100.0\n"
     ]
    }
   ],
   "source": [
    "bc_left = {'type':'Dirichlet','value':100.0}\n",
    "bc_right = {'type':'Neumann','value':0.0}\n",
    "\n",
    "print(bc_left['type'])\n",
    "print(bc_right['value'])\n",
    "\n",
    "bc = {'left':bc_left, 'right': bc_right}\n",
    "\n",
    "print(bc['left']['value'])\n"
   ]
  },
  {
   "cell_type": "code",
   "execution_count": 7,
   "metadata": {},
   "outputs": [],
   "source": [
    "def rhs_vector(T, dt, dx, alpha, cE):\n",
    "    b = T[1:-1]/dt + cE*alpha*(T[:,-2]-2*T[1:-1]+T[2:])/dx**2\n",
    "    return b"
   ]
  },
  {
   "cell_type": "code",
   "execution_count": 8,
   "metadata": {},
   "outputs": [],
   "source": [
    "def update_boundaries(T, dx, bc):\n",
    "    T[0] = get_boundary_value(T[1], dx, bc['left'])\n",
    "    T[-1] = get_boundary_value(T[-2], dx, bc['right'])\n",
    "    return"
   ]
  },
  {
   "cell_type": "code",
   "execution_count": 9,
   "metadata": {},
   "outputs": [],
   "source": [
    "def get_boundary_value(T_neighbor, dx, bc):\n",
    "    if  bc['type'] == 'Dirichlet':\n",
    "        return bc['value']\n",
    "    elif bc['type'] == 'Neumann':\n",
    "        return T_neighbor + bc['value']*dx\n",
    "    else:\n",
    "        raise ValueError('Only Dirichlet and Neumann are supported')\n",
    "    return "
   ]
  },
  {
   "cell_type": "code",
   "execution_count": 10,
   "metadata": {},
   "outputs": [
    {
     "name": "stdout",
     "output_type": "stream",
     "text": [
      "[1. 1. 1.]\n",
      "[3. 1. 1.]\n"
     ]
    }
   ],
   "source": [
    "def func(a):\n",
    "    a[0] += 2.0\n",
    "    return\n",
    "\n",
    "a = numpy.ones(3)\n",
    "print(a)\n",
    "func(a)\n",
    "print (a)"
   ]
  },
  {
   "cell_type": "code",
   "execution_count": 11,
   "metadata": {},
   "outputs": [
    {
     "data": {
      "text/plain": [
       "100.0"
      ]
     },
     "execution_count": 11,
     "metadata": {},
     "output_type": "execute_result"
    }
   ],
   "source": [
    "# Tb = get_boundary_value (100.0, 1.0, {'type': 'Dirichlet', 'value': 101.0})\n",
    "# Tb\n",
    "\n",
    "Ta = get_boundary_value (100.0, 1.0, {'type': 'Neumann', 'value': 0.0})\n",
    "Ta"
   ]
  },
  {
   "cell_type": "code",
   "execution_count": 12,
   "metadata": {},
   "outputs": [
    {
     "ename": "IndexError",
     "evalue": "too many indices for array",
     "output_type": "error",
     "traceback": [
      "\u001b[0;31m---------------------------------------------------------------------------\u001b[0m",
      "\u001b[0;31mIndexError\u001b[0m                                Traceback (most recent call last)",
      "\u001b[0;32m<ipython-input-12-be7e07953abe>\u001b[0m in \u001b[0;36m<module>\u001b[0;34m()\u001b[0m\n\u001b[1;32m      3\u001b[0m \u001b[0mnt\u001b[0m \u001b[0;34m=\u001b[0m \u001b[0;36m100\u001b[0m\u001b[0;34m\u001b[0m\u001b[0m\n\u001b[1;32m      4\u001b[0m \u001b[0;34m\u001b[0m\u001b[0m\n\u001b[0;32m----> 5\u001b[0;31m \u001b[0mT\u001b[0m \u001b[0;34m=\u001b[0m \u001b[0msolve_1d\u001b[0m\u001b[0;34m(\u001b[0m\u001b[0mT0\u001b[0m\u001b[0;34m,\u001b[0m \u001b[0mnt\u001b[0m\u001b[0;34m,\u001b[0m \u001b[0mdt\u001b[0m\u001b[0;34m,\u001b[0m \u001b[0mdx\u001b[0m\u001b[0;34m,\u001b[0m \u001b[0malpha\u001b[0m\u001b[0;34m,\u001b[0m \u001b[0;36m0.5\u001b[0m\u001b[0;34m,\u001b[0m \u001b[0;36m0.5\u001b[0m\u001b[0;34m,\u001b[0m \u001b[0mbc\u001b[0m\u001b[0;34m)\u001b[0m\u001b[0;34m\u001b[0m\u001b[0m\n\u001b[0m",
      "\u001b[0;32m<ipython-input-3-01f8c1be9406>\u001b[0m in \u001b[0;36msolve_1d\u001b[0;34m(T0, nt, dt, dx, alpha, cI, cE, bc)\u001b[0m\n\u001b[1;32m      4\u001b[0m     \u001b[0mA\u001b[0m\u001b[0;34m,\u001b[0m \u001b[0mb_bc\u001b[0m \u001b[0;34m=\u001b[0m \u001b[0mlhs_operator\u001b[0m\u001b[0;34m(\u001b[0m\u001b[0mN\u001b[0m\u001b[0;34m,\u001b[0m \u001b[0mdt\u001b[0m\u001b[0;34m,\u001b[0m \u001b[0mdx\u001b[0m\u001b[0;34m,\u001b[0m \u001b[0malpha\u001b[0m\u001b[0;34m,\u001b[0m \u001b[0mcI\u001b[0m\u001b[0;34m,\u001b[0m \u001b[0mbc\u001b[0m\u001b[0;34m)\u001b[0m\u001b[0;34m\u001b[0m\u001b[0m\n\u001b[1;32m      5\u001b[0m     \u001b[0;32mfor\u001b[0m \u001b[0mn\u001b[0m \u001b[0;32min\u001b[0m \u001b[0mrange\u001b[0m \u001b[0;34m(\u001b[0m\u001b[0mnt\u001b[0m\u001b[0;34m)\u001b[0m\u001b[0;34m:\u001b[0m\u001b[0;34m\u001b[0m\u001b[0m\n\u001b[0;32m----> 6\u001b[0;31m         \u001b[0mb\u001b[0m \u001b[0;34m=\u001b[0m \u001b[0mrhs_vector\u001b[0m\u001b[0;34m(\u001b[0m\u001b[0mT\u001b[0m\u001b[0;34m,\u001b[0m \u001b[0mdt\u001b[0m\u001b[0;34m,\u001b[0m \u001b[0mdx\u001b[0m\u001b[0;34m,\u001b[0m \u001b[0malpha\u001b[0m\u001b[0;34m,\u001b[0m \u001b[0mcE\u001b[0m\u001b[0;34m)\u001b[0m\u001b[0;34m\u001b[0m\u001b[0m\n\u001b[0m\u001b[1;32m      7\u001b[0m         \u001b[0mT\u001b[0m\u001b[0;34m[\u001b[0m\u001b[0;36m1\u001b[0m\u001b[0;34m:\u001b[0m\u001b[0;34m-\u001b[0m\u001b[0;36m1\u001b[0m\u001b[0;34m]\u001b[0m \u001b[0;34m=\u001b[0m \u001b[0mlinalg\u001b[0m\u001b[0;34m.\u001b[0m\u001b[0msolve\u001b[0m\u001b[0;34m(\u001b[0m\u001b[0mA\u001b[0m\u001b[0;34m,\u001b[0m \u001b[0mb\u001b[0m\u001b[0;34m-\u001b[0m\u001b[0mb_bc\u001b[0m\u001b[0;34m)\u001b[0m\u001b[0;34m\u001b[0m\u001b[0m\n\u001b[1;32m      8\u001b[0m         \u001b[0mupdate_boundaries\u001b[0m\u001b[0;34m(\u001b[0m\u001b[0mT\u001b[0m\u001b[0;34m,\u001b[0m \u001b[0mdx\u001b[0m\u001b[0;34m,\u001b[0m \u001b[0mbc\u001b[0m\u001b[0;34m)\u001b[0m\u001b[0;34m\u001b[0m\u001b[0m\n",
      "\u001b[0;32m<ipython-input-7-f13fe7e78727>\u001b[0m in \u001b[0;36mrhs_vector\u001b[0;34m(T, dt, dx, alpha, cE)\u001b[0m\n\u001b[1;32m      1\u001b[0m \u001b[0;32mdef\u001b[0m \u001b[0mrhs_vector\u001b[0m\u001b[0;34m(\u001b[0m\u001b[0mT\u001b[0m\u001b[0;34m,\u001b[0m \u001b[0mdt\u001b[0m\u001b[0;34m,\u001b[0m \u001b[0mdx\u001b[0m\u001b[0;34m,\u001b[0m \u001b[0malpha\u001b[0m\u001b[0;34m,\u001b[0m \u001b[0mcE\u001b[0m\u001b[0;34m)\u001b[0m\u001b[0;34m:\u001b[0m\u001b[0;34m\u001b[0m\u001b[0m\n\u001b[0;32m----> 2\u001b[0;31m     \u001b[0mb\u001b[0m \u001b[0;34m=\u001b[0m \u001b[0mT\u001b[0m\u001b[0;34m[\u001b[0m\u001b[0;36m1\u001b[0m\u001b[0;34m:\u001b[0m\u001b[0;34m-\u001b[0m\u001b[0;36m1\u001b[0m\u001b[0;34m]\u001b[0m\u001b[0;34m/\u001b[0m\u001b[0mdt\u001b[0m \u001b[0;34m+\u001b[0m \u001b[0mcE\u001b[0m\u001b[0;34m*\u001b[0m\u001b[0malpha\u001b[0m\u001b[0;34m*\u001b[0m\u001b[0;34m(\u001b[0m\u001b[0mT\u001b[0m\u001b[0;34m[\u001b[0m\u001b[0;34m:\u001b[0m\u001b[0;34m,\u001b[0m\u001b[0;34m-\u001b[0m\u001b[0;36m2\u001b[0m\u001b[0;34m]\u001b[0m\u001b[0;34m-\u001b[0m\u001b[0;36m2\u001b[0m\u001b[0;34m*\u001b[0m\u001b[0mT\u001b[0m\u001b[0;34m[\u001b[0m\u001b[0;36m1\u001b[0m\u001b[0;34m:\u001b[0m\u001b[0;34m-\u001b[0m\u001b[0;36m1\u001b[0m\u001b[0;34m]\u001b[0m\u001b[0;34m+\u001b[0m\u001b[0mT\u001b[0m\u001b[0;34m[\u001b[0m\u001b[0;36m2\u001b[0m\u001b[0;34m:\u001b[0m\u001b[0;34m]\u001b[0m\u001b[0;34m)\u001b[0m\u001b[0;34m/\u001b[0m\u001b[0mdx\u001b[0m\u001b[0;34m**\u001b[0m\u001b[0;36m2\u001b[0m\u001b[0;34m\u001b[0m\u001b[0m\n\u001b[0m\u001b[1;32m      3\u001b[0m     \u001b[0;32mreturn\u001b[0m \u001b[0mb\u001b[0m\u001b[0;34m\u001b[0m\u001b[0m\n",
      "\u001b[0;31mIndexError\u001b[0m: too many indices for array"
     ]
    }
   ],
   "source": [
    "sigma = 0.5\n",
    "dt = sigma*dx**2/alpha\n",
    "nt = 100\n",
    "\n",
    "T = solve_1d(T0, nt, dt, dx, alpha, 0.5, 0.5, bc)"
   ]
  },
  {
   "cell_type": "code",
   "execution_count": null,
   "metadata": {},
   "outputs": [],
   "source": [
    "pyplot.figure()\n",
    "pyplot.xlabel('Distance [m]')\n",
    "pyplot.ylabel('Temperature [oC]')\n",
    "pyplot.plot(x,T);\n"
   ]
  },
  {
   "cell_type": "code",
   "execution_count": null,
   "metadata": {},
   "outputs": [],
   "source": []
  }
 ],
 "metadata": {
  "kernelspec": {
   "display_name": "Python 3",
   "language": "python",
   "name": "python3"
  },
  "language_info": {
   "codemirror_mode": {
    "name": "ipython",
    "version": 3
   },
   "file_extension": ".py",
   "mimetype": "text/x-python",
   "name": "python",
   "nbconvert_exporter": "python",
   "pygments_lexer": "ipython3",
   "version": "3.6.2"
  }
 },
 "nbformat": 4,
 "nbformat_minor": 2
}
