{
 "cells": [
  {
   "cell_type": "code",
   "execution_count": 1,
   "metadata": {},
   "outputs": [],
   "source": [
    "import numpy\n",
    "from matplotlib import pyplot\n",
    "%matplotlib inline"
   ]
  },
  {
   "cell_type": "code",
   "execution_count": 2,
   "metadata": {},
   "outputs": [],
   "source": [
    "#Set the font family and size to use for Matplotlib figures\n",
    "pyplot.rcParams['font.family']='serif'\n",
    "pyplot.rcParams['font.size']=16"
   ]
  },
  {
   "cell_type": "code",
   "execution_count": 3,
   "metadata": {},
   "outputs": [],
   "source": [
    "def rho_green_light(x,rho_light):\n",
    "    rho=numpy.zeros_like(x)\n",
    "    mask=numpy.where(x<2.0)\n",
    "    rho[mask]=rho_light*x[mask]/2.0\n",
    "    return rho"
   ]
  },
  {
   "cell_type": "code",
   "execution_count": 5,
   "metadata": {},
   "outputs": [],
   "source": [
    "#Set parameters\n",
    "nx=81 #number of locations on the road\n",
    "L = 4.0 #length of the road\n",
    "dx = L/(nx-1) #distance between two consecutive locations\n",
    "nt = 30 #number of time steps to compute\n",
    "u_max = 1.0 #max speed allowed on the road\n",
    "rho_max = 10.0 #max car density allowed on the road\n",
    "rho_light = 10.0 #car density at the stoplight\n",
    "\n",
    "#Discretize the road\n",
    "x=numpy.linspace(0.0,L, num=nx)\n",
    "\n",
    "#Compute the initial traffic density\n",
    "rho0 = rho_green_light(x, rho_light)"
   ]
  },
  {
   "cell_type": "code",
   "execution_count": null,
   "metadata": {},
   "outputs": [],
   "source": [
    "#Plot the initial car density on the road\n",
    "pyplot.figure(figsize=(6.0,4.0))\n",
    "pyplot.xlabel(r'$x$')\n",
    "pyplot.ylabel(r'$\\rho')"
   ]
  }
 ],
 "metadata": {
  "kernelspec": {
   "display_name": "Python 3",
   "language": "python",
   "name": "python3"
  },
  "language_info": {
   "codemirror_mode": {
    "name": "ipython",
    "version": 3
   },
   "file_extension": ".py",
   "mimetype": "text/x-python",
   "name": "python",
   "nbconvert_exporter": "python",
   "pygments_lexer": "ipython3",
   "version": "3.6.2"
  }
 },
 "nbformat": 4,
 "nbformat_minor": 2
}
