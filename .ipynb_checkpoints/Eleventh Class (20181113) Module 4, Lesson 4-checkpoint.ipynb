{
 "cells": [
  {
   "cell_type": "code",
   "execution_count": 1,
   "metadata": {},
   "outputs": [],
   "source": [
    "import numpy\n",
    "from scipy import linalg"
   ]
  },
  {
   "cell_type": "code",
   "execution_count": 2,
   "metadata": {},
   "outputs": [],
   "source": [
    "def lhs_operator(M,N,sigma):\n",
    "    A=numpy.zeros((M*N, M*N))\n",
    "    for j in range (N):\n",
    "        for i in range (M):\n",
    "            I = j*M + i #row index\n",
    "            #Get index south, west, east, and north points.\n",
    "            south, west, east, north = I-M, I-1, I+1, I+M\n",
    "            #Setup coefficients at corner points.\n",
    "            if i == 0 and j == 0: #bottom-left corner\n",
    "                A[I,I] = 1.0/sigma + 4.0\n",
    "                A[I, east] = -1.0\n",
    "                A[I, north] = -1.0\n",
    "            elif i == M-1 and j == 0: #bottom-right corner\n",
    "                A[I,I] = 1.0/sigma + 3.0\n",
    "                A[I, west] = -1.0\n",
    "                A[I, north] = -1.0\n",
    "            elif i == 0 and j == N-1: #top-left corner\n",
    "                A[I,I] = 1.0/sigma + 3.0\n",
    "                A[I, south] = -1.0\n",
    "                A[I, east] = -1.0\n",
    "            elif i == M-1 and j == N-1: #top-right corner\n",
    "                A[I,I] = 1.0/sigma + 2.0\n",
    "                A[I, south] = -1.0\n",
    "                A[I, west] = -1.0\n",
    "            #Setup coefficients at side points (excluding corners).\n",
    "            elif i == 0:  #left side\n",
    "                A[I,I] = 1.0/sigma + 4.0\n",
    "                A[I, south] = -1.0\n",
    "                A[I, east] = -1.0\n",
    "                A[I, north] = -1.0\n",
    "            elif i == M-1:  #right side\n",
    "                A[I,I] = 1.0/sigma + 3.0\n",
    "                A[I, south] = -1.0\n",
    "                A[I, west] = -1.0\n",
    "                A[I, north] = -1.0\n",
    "            elif j == 0:  #bottom side\n",
    "                A[I,I] = 1.0/sigma + 4.0\n",
    "                A[I, west] = -1.0\n",
    "                A[I, east] = -1.0\n",
    "                A[I, north] = -1.0\n",
    "            elif j == N-1:  #top side\n",
    "                A[I,I] = 1.0/sigma + 3.0\n",
    "                A[I, south] = -1.0\n",
    "                A[I, west] = -1.0\n",
    "                A[I, east] = -1.0\n",
    "            #Setup coefficients at interior points.\n",
    "            else:\n",
    "                A[I,I] = 1.0/sigma + 4.0\n",
    "                A[I,south] = -1.0\n",
    "                A[I,west] = -1.0\n",
    "                A[I,east] = -1.0\n",
    "                A[I,north] = -1.0\n",
    "    return A"
   ]
  },
  {
   "cell_type": "code",
   "execution_count": 3,
   "metadata": {},
   "outputs": [],
   "source": [
    "def btcs_implicit_2d(T0, nt, dt, dx, alpha, Tb):\n",
    "    #Get the number of points in each direction.\n",
    "    ny, nx = T0.shape\n",
    "    #Get the number of interior points in each direction.\n",
    "    M,N = nx-2, ny-2\n",
    "    #Compute the  constant sigma.\n",
    "    sigma = alpha*dt/dx**2\n",
    "    #Create the implicit operator of the system.\n",
    "    A = lhs_operator(M,N,sigma)\n",
    "    #Integrate in time.\n",
    "    T=T0[1:-1,1:-1].flatten() #interior points as a 1D array\n",
    "    I,J = int(M/2), int(N/2) #indices of the center\n",
    "    for n in range (nt):\n",
    "        #Compute the right-hand side of the system.\n",
    "        b = rhs_vector(T,M,N,sigma,Tb)\n",
    "        #Solve the system with scipy.linalg.solve.\n",
    "        T = linalg.solve(A,b)\n",
    "        #Check if the center of the domain has reached T = 70C\n",
    "        if T[J*M+I]>=70.0:\n",
    "            break\n",
    "    print('[Time step {}] Center at T={:.2f} C at t={:.2f} s'.format(n+1, T[J*M+I], ((n+1)*dt)))\n",
    "    #Returns the temperature in the domain as a 2D array.\n",
    "    return map_1d_to_2d(T,nx,ny,Tb)"
   ]
  },
  {
   "cell_type": "code",
   "execution_count": 4,
   "metadata": {},
   "outputs": [],
   "source": [
    "def map_1d_to_2d(T_1d,nx,ny,Tb):\n",
    "    T=numpy.zeros((ny,nx))\n",
    "    #Get the values at interior points.\n",
    "    T[1:-1, 1:-1] = T_1d.reshape((ny-2, nx-2))\n",
    "    #Use Dirichlet condition at left and bottom boundaries\n",
    "    T[:,0] = Tb\n",
    "    T[0,:] = Tb\n",
    "    #Use Neuman condition at right and top boundaries\n",
    "    T[:,-1] = T[:,-2]\n",
    "    T[-1,:] = T[-2,:]\n",
    "    return T"
   ]
  },
  {
   "cell_type": "code",
   "execution_count": 5,
   "metadata": {},
   "outputs": [],
   "source": [
    "def rhs_vector(T,M,N,sigma,Tb):\n",
    "    b = 1.0/sigma*T\n",
    "    #Add Dirichlet term at points located next to the left and bottom boundaries.\n",
    "    for j in range(N):\n",
    "        for i in range(M):\n",
    "            I=j*M+i\n",
    "            if i==0:\n",
    "                b[I]+= Tb\n",
    "            if j==0:\n",
    "                b[I]+= Tb\n",
    "    return b                "
   ]
  },
  {
   "cell_type": "code",
   "execution_count": 6,
   "metadata": {},
   "outputs": [],
   "source": [
    "#Set parameters\n",
    "Lx = 0.01 #length of the plate in the x-direction\n",
    "Ly = 0.01 #length of the plate in the y-direction\n",
    "nx = 21 #number of points in the x-direction\n",
    "ny = 21 #number of points in the y-direction\n",
    "dx = Lx/(nx-1) #grid spacing in the x-direction\n",
    "dy = Ly/(ny-1) #grid spacing in the y-direction\n",
    "alpha = 1e-4 #thermal diffusivity\n",
    "\n",
    "#Define the locations along a gridline.\n",
    "x = numpy.linspace(0.0,Lx,num=nx)\n",
    "y = numpy.linspace(0.0, Ly, num=ny)\n",
    "\n",
    "#Compute the initial temperature distribution\n",
    "Tb = 100.0 #temperature at the left and bottom boundaries\n",
    "T0 = 20.0*numpy.ones((ny,nx))\n",
    "T0[:,0] = Tb\n",
    "T0[0,:] = Tb"
   ]
  },
  {
   "cell_type": "code",
   "execution_count": 7,
   "metadata": {},
   "outputs": [
    {
     "name": "stdout",
     "output_type": "stream",
     "text": [
      "[Time step 257] Center at T=70.00 C at t=0.16 s\n"
     ]
    }
   ],
   "source": [
    "#Set the time-step size based on CFL limit.\n",
    "sigma = 0.25\n",
    "dt = sigma*min(dx,dy)**2/alpha #time-step size\n",
    "nt = 300 #number of time steps to compute\n",
    "\n",
    "#Compute the temperature along the rod.\n",
    "T=btcs_implicit_2d(T0,nt,dt,dx,alpha,Tb)"
   ]
  },
  {
   "cell_type": "code",
   "execution_count": 8,
   "metadata": {},
   "outputs": [],
   "source": [
    "from matplotlib import pyplot\n",
    "%matplotlib inline"
   ]
  },
  {
   "cell_type": "code",
   "execution_count": 9,
   "metadata": {},
   "outputs": [],
   "source": [
    "#Set the font family and size to use for Matplotlib figures.\n",
    "pyplot.rcParams['font.family'] = 'serif'\n",
    "pyplot.rcParams['font.size'] = 16"
   ]
  },
  {
   "cell_type": "code",
   "execution_count": 11,
   "metadata": {},
   "outputs": [
    {
     "data": {
      "image/png": "[encoded data removed]",
      "text/plain": [
       "<Figure size 576x360 with 2 Axes>"
      ]
     },
     "metadata": {},
     "output_type": "display_data"
    }
   ],
   "source": [
    "#plot the filled contour of the temperature.\n",
    "pyplot.figure(figsize=(8.0,5.0))\n",
    "pyplot.xlabel('x [m]')\n",
    "pyplot.ylabel('y [m]')\n",
    "levels = numpy.linspace(20.0, 100.0, num=51)\n",
    "contf = pyplot.contourf(x,y,T, levels=levels)\n",
    "cbar = pyplot.colorbar(contf)\n",
    "cbar.set_label('Temperature [C]')\n",
    "pyplot.axis('scaled', adjustable ='box');"
   ]
  },
  {
   "cell_type": "code",
   "execution_count": null,
   "metadata": {},
   "outputs": [],
   "source": []
  }
 ],
 "metadata": {
  "kernelspec": {
   "display_name": "Python 3",
   "language": "python",
   "name": "python3"
  },
  "language_info": {
   "codemirror_mode": {
    "name": "ipython",
    "version": 3
   },
   "file_extension": ".py",
   "mimetype": "text/x-python",
   "name": "python",
   "nbconvert_exporter": "python",
   "pygments_lexer": "ipython3",
   "version": "3.6.2"
  }
 },
 "nbformat": 4,
 "nbformat_minor": 2
}
